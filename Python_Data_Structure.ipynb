{
  "nbformat": 4,
  "nbformat_minor": 0,
  "metadata": {
    "colab": {
      "provenance": []
    },
    "kernelspec": {
      "name": "python3",
      "display_name": "Python 3"
    },
    "language_info": {
      "name": "python"
    }
  },
  "cells": [
    {
      "cell_type": "markdown",
      "source": [
        "#PYTHON DATA STRUCTURE"
      ],
      "metadata": {
        "id": "LtRwA4DzMd2u"
      }
    },
    {
      "cell_type": "markdown",
      "source": [
        "Q1. What are data structures, and why they are important?"
      ],
      "metadata": {
        "id": "ODuy7mJ_MnFB"
      }
    },
    {
      "cell_type": "markdown",
      "source": [
        "- Data structures are ways of organizing and storing data in a computer so that it can be accessed and modified efficiently. Choosing the right data structure improves the performance of programs (time and space complexity).Efficient structures allow applications to handle large datasets.\n",
        "Understanding data structures is fundamental for anyone working in computer science, software engineering, data science, or any field involving programming or large-scale data processing."
      ],
      "metadata": {
        "id": "CJBCB2FbNavp"
      }
    },
    {
      "cell_type": "markdown",
      "source": [
        "Q2. Explain the difference between mutable and immutable data types with examples."
      ],
      "metadata": {
        "id": "N471hciAOIs5"
      }
    },
    {
      "cell_type": "markdown",
      "source": [
        "- Mutable objects can be changed after they are created. This means you can modify, add, or remove elements without creating a new object.Ex.List,Dict(Dictionery),set,bytearray.\n",
        "Immutable objects cannot be changed after they are created. Any modification results in a new object.Ex.Int,float,string,tuple,etc"
      ],
      "metadata": {
        "id": "QQvl6yX5Oh47"
      }
    },
    {
      "cell_type": "markdown",
      "source": [
        "Q3. What are the main differences between lists and tuples with python?"
      ],
      "metadata": {
        "id": "16Gp5XPsPJIa"
      }
    },
    {
      "cell_type": "markdown",
      "source": [
        "- In Python, lists and tuples are both sequence data types that can store multiple items. However, they have key differences that affect how and when you should use each.\n",
        "\n",
        "✅ Use List when:\n",
        "*You need to add, remove, or modify elements.\n",
        "*The data is dynamic or likely to change.\n",
        "\n",
        "✅ Use Tuple when:\n",
        "*The data is fixed (like coordinates, dates).\n",
        "*You need to ensure data integrity.\n",
        "*You want to use it as a dictionary key or store it in a set.\n",
        "\n"
      ],
      "metadata": {
        "id": "SfjjCwubPoey"
      }
    },
    {
      "cell_type": "markdown",
      "source": [
        "Q4.Describe how dictioneries stores data."
      ],
      "metadata": {
        "id": "ZkuCdg1LQE6y"
      }
    },
    {
      "cell_type": "markdown",
      "source": [
        "- A dictionary in Python is a built-in hash table data structure that stores key-value pairs.ython dictionaries are powerful, efficient, and a fundamental part of almost every program.Ex.Hashing the key,indexing,storing."
      ],
      "metadata": {
        "id": "Fc3O9ACLQg2y"
      }
    },
    {
      "cell_type": "markdown",
      "source": [
        "Q5. Why might you use a set instead of a list in python?"
      ],
      "metadata": {
        "id": "HVhAmo91Q2Cq"
      }
    },
    {
      "cell_type": "markdown",
      "source": [
        "- You might choose a set over a list in Python for several important reasons—especially when working with unique values and fast membership checks.\n",
        "Use a list when order matters or duplicates are meaningful."
      ],
      "metadata": {
        "id": "KrJjXvAaRKMM"
      }
    },
    {
      "cell_type": "markdown",
      "source": [
        "Q6. What is a string in python, and how is it different from a list?"
      ],
      "metadata": {
        "id": "GFS8rf9jReVS"
      }
    },
    {
      "cell_type": "markdown",
      "source": [
        "- A string in Python is a sequence of characters enclosed in single (') or double (\") quotes.Both strings and lists are sequential data types, but they serve very different purposes based on the kind of data you're working with.\n",
        "*Use a string when working with text, sentences, or characters.\n",
        "*Use a list when dealing with a collection of items that may change (e.g., numbers, objects, mixed data types)."
      ],
      "metadata": {
        "id": "tgiwkPFxRvpi"
      }
    },
    {
      "cell_type": "markdown",
      "source": [
        "Q7. How do tuples ensure data integrity in python?"
      ],
      "metadata": {
        "id": "5-9KScGZRwHL"
      }
    },
    {
      "cell_type": "markdown",
      "source": [
        "- Tuples in Python are designed to be immutable, which is key to how they help ensure data integrity.Use tuples when you want guaranteed fixed, unchangeable data—especially for configurations, coordinates, keys, or other data that must remain stable and trusted throughout your program."
      ],
      "metadata": {
        "id": "9PrDHq0rRwSy"
      }
    },
    {
      "cell_type": "markdown",
      "source": [
        "Q8. What is a hash table, and how does it relate to dictionaries in python?"
      ],
      "metadata": {
        "id": "iol-QQ_hRwba"
      }
    },
    {
      "cell_type": "markdown",
      "source": [
        "- A hash table is a data structure that stores data in an associative way—meaning you access values by a key rather than an index (like in a list or array).\n",
        "A Python dict is implemented using a hash table under the hood.\n",
        "*Keys must be immutable (e.g., strings, numbers, tuples).\n",
        "*Keys must be hashable (__hash__() method must return a stable integer)."
      ],
      "metadata": {
        "id": "gXXxKMZrTctz"
      }
    },
    {
      "cell_type": "markdown",
      "source": [
        "Q9. Can lists contain different data types in python?"
      ],
      "metadata": {
        "id": "yHD1zO_MT8LL"
      }
    },
    {
      "cell_type": "markdown",
      "source": [
        "- Python lists are heterogeneous, meaning they can store mixed data types in a single list. This is possible because Python is a dynamically typed language—each element in the list is just a reference to an object in memory.\n",
        "List contain like as Integer,string,float,boolean"
      ],
      "metadata": {
        "id": "x7W4zvTuUPoC"
      }
    },
    {
      "cell_type": "markdown",
      "source": [
        "Q10. Explain why strings are immutable in python."
      ],
      "metadata": {
        "id": "q9jiWWdqUhP6"
      }
    },
    {
      "cell_type": "markdown",
      "source": [
        "- In Python, strings are immutable, meaning once a string is created, it cannot be changed. Any operation that modifies a string actually returns a new string object.\n",
        "Immutability is a design choice in Python that trades flexibility for performance, safety, and reliability—all of which are essential for writing clean, efficient, and bug-resistant code."
      ],
      "metadata": {
        "id": "TeKVnx9vUuEx"
      }
    },
    {
      "cell_type": "markdown",
      "source": [
        "Q11. What advantages do dictionaries offer over lists for certain tasks?"
      ],
      "metadata": {
        "id": "Cnxzu0iqU_ns"
      }
    },
    {
      "cell_type": "markdown",
      "source": [
        "- Dictionaries (dict) and lists (list) are both powerful in Python—but they serve different purposes. For certain tasks, dictionaries offer key advantages over lists, especially when fast, key-based access is needed.\n",
        "Ex.Lookup data by a unique identifier, Count frequencies (e.g., word count),Store config/settings,Represent mappings (user → email, etc.)."
      ],
      "metadata": {
        "id": "1GQsMKbKVMXh"
      }
    },
    {
      "cell_type": "markdown",
      "source": [
        "Q12. Describe a scenario where using a tuple would be preferable over a list."
      ],
      "metadata": {
        "id": "kIeG5mdhVoO3"
      }
    },
    {
      "cell_type": "markdown",
      "source": [
        "- A tuple is ideal when you want to store a fixed collection of values that should not be changed. One common and practical scenario is:-\n",
        "Let’s say you’re writing a function to fetch a user's profile from a database, and you want to return the user’s name, age, and country.\n",
        "When Using a Tuple Is Preferable Over a ListS"
      ],
      "metadata": {
        "id": "uXq4t_JrWNpz"
      }
    },
    {
      "cell_type": "markdown",
      "source": [
        "Q13. How do sets handle duplicate values in python?"
      ],
      "metadata": {
        "id": "1_H5c9rAZ8qM"
      }
    },
    {
      "cell_type": "markdown",
      "source": [
        "- In Python, sets automatically remove duplicates.\n",
        "They are unordered collections of unique elements.If you add a duplicate value to a set, it is silently ignored—the set keeps only one instance of each unique value."
      ],
      "metadata": {
        "id": "tkgVJuf3aLE8"
      }
    },
    {
      "cell_type": "markdown",
      "source": [
        "Q14. How does the \"in\"keyword work differently for lists and dictionaries?"
      ],
      "metadata": {
        "id": "16HC-F69aWCy"
      }
    },
    {
      "cell_type": "markdown",
      "source": [],
      "metadata": {
        "id": "1guzLJ1SbsLA"
      }
    },
    {
      "cell_type": "markdown",
      "source": [
        "- The in keyword is used to check for membership—but it behaves differently depending on the data structure.\n",
        " **✅ In a List: Checks for Values**\n",
        "python\n",
        "my_list = [10, 20, 30]\n",
        "\n",
        "print(20 in my_list)   # ✅ True: 20 is an element\n",
        "print(40 in my_list)   # ❌ False: 40 is not in the list\n",
        "\n",
        "- **In a Dictionary: Checks for Keys Only**\n",
        "  my_dict = {\"a\": 1, \"b\": 2}\n",
        "\n",
        "print(\"a\" in my_dict)      # ✅ True: \"a\" is a key\n",
        "print(1 in my_dict)        # ❌ False: values are not checked\n",
        "    in checks whether the key exists, not the value.\n",
        "  Time complexity: O(1) average case — uses a hash table for fast lookup."
      ],
      "metadata": {
        "id": "_NKuHv8xaynb"
      }
    },
    {
      "cell_type": "markdown",
      "source": [
        "Q15. Can you modify the elements of a tuple?Explain why or why not."
      ],
      "metadata": {
        "id": "dD7q5lvDbUPq"
      }
    },
    {
      "cell_type": "markdown",
      "source": [
        "- No, you cannot modify the elements of a tuple.\n",
        "Tuples are immutable in Python, which means once a tuple is created, its contents cannot be changed—you can't add, remove, or alter its elements.\n",
        "\n",
        "**Why Tuples Are Immutable**\n",
        "\n",
        "| Reason                | Explanation                                                                             |\n",
        "| --------------------- | --------------------------------------------------------------------------------------- |\n",
        "| 🔒 **Data Integrity** | Prevents accidental changes to important data                                           |\n",
        "| 🧠 **Predictability** | Makes functions and data structures using tuples easier to reason about                 |\n",
        "| ⚡ **Performance**     | Tuples are more memory- and speed-efficient than lists                                  |\n",
        "| 🧩 **Hashability**    | Tuples can be used as **dictionary keys** and in **sets** if all elements are immutable |\n",
        "\n",
        "\n",
        "**Special Case: Mutable Objects Inside Tuples**\n",
        "While the tuple itself is immutable, it can contain mutable elements (like lists or dictionaries) that can be changed:\n",
        "\n",
        "python\n",
        "Copy\n",
        "Edit\n",
        "t = (1, [2, 3], 4)\n",
        "t[1][0] = 99\n",
        "print(t)  # Output: (1, [99, 3], 4) ✅\n",
        "\n",
        "| Property              | Tuple                                                           |\n",
        "| --------------------- | --------------------------------------------------------------- |\n",
        "| Can be modified?      | ❌ No                                                            |\n",
        "| Fixed size?           | ✅ Yes                                                           |\n",
        "| Can contain mutables? | ✅ Yes, but the container remains fixed                          |\n",
        "| Use case              | Safe, fixed data (e.g., coordinates, settings, dictionary keys) |\n",
        "\n",
        "\n",
        "\n",
        "\n",
        "\n",
        "\n"
      ],
      "metadata": {
        "id": "LMgYQu-BcETV"
      }
    },
    {
      "cell_type": "markdown",
      "source": [
        "Q16. What is a nested dictionary,and give an example of its use case?"
      ],
      "metadata": {
        "id": "vTxGMSZrdCMB"
      }
    },
    {
      "cell_type": "markdown",
      "source": [
        "- A nested dictionary is a dictionary inside another dictionary.\n",
        "It allows you to store hierarchical or structured data—like a tree or a JSON object.\n",
        "  **Example of a Nested Dictionary**\n",
        "    \n",
        "    students = {\n",
        "    \"Alice\": {\n",
        "        \"age\": 25,\n",
        "        \"grades\": {\"math\": 90, \"science\": 85}\n",
        "    },\n",
        "    \"Bob\": {\n",
        "        \"age\": 22,\n",
        "        \"grades\": {\"math\": 78, \"science\": 80}\n",
        "    }\n",
        "}\n",
        "\n",
        "  The outer dictionary uses student names as keys.\n",
        "\n",
        "The inner dictionary stores personal details and grades."
      ],
      "metadata": {
        "id": "NZ-wbMcxc6GL"
      }
    },
    {
      "cell_type": "markdown",
      "source": [
        "Q17. Describe the time complexityof accessing elements in a dictionary."
      ],
      "metadata": {
        "id": "uB0YaHOud9iQ"
      }
    },
    {
      "cell_type": "markdown",
      "source": [
        "- In Python, dictionaries are implemented using hash tables, which makes them extremely efficient for key-based operations.\n",
        "   **Accessing an Element by Key**\n",
        "    \n",
        "    my_dict = {\"name\": \"Alice\", \"age\": 30}\n",
        "      print(my_dict[\"age\"])  # Output: 30\n",
        "\n",
        "       This operation accesses the value associated with the key \"age\".\n",
        "\n",
        "\n"
      ],
      "metadata": {
        "id": "wsfwzkbvcpZR"
      }
    },
    {
      "cell_type": "markdown",
      "source": [
        "Q18. In what situations are lists preferred over dictionaries?"
      ],
      "metadata": {
        "id": "ACXtD5-VevPL"
      }
    },
    {
      "cell_type": "markdown",
      "source": [
        "- While dictionaries are great for key-based access, lists are better suited for situations where you care about order, indexing, or duplicates.\n",
        "  Use a list when:\n",
        "\n",
        "    You care about order and position\n",
        "\n",
        "    You don’t need to name your items\n",
        "\n",
        "    You need duplicates\n",
        "\n",
        "   You want to iterate or sort easily"
      ],
      "metadata": {
        "id": "yXclncYefTXY"
      }
    },
    {
      "cell_type": "markdown",
      "source": [
        "Q19. Why are dictionaries considered unordered, and how does that effect data retrival?"
      ],
      "metadata": {
        "id": "1SrnTBOHfwXn"
      }
    },
    {
      "cell_type": "markdown",
      "source": [
        "- Traditional View: Dictionaries Are Unordered\n",
        "Before Python 3.7, dictionaries were considered unordered collections.\n",
        "This means:\n",
        "\n",
        "  The insertion order of key-value pairs was not guaranteed.\n",
        "\n",
        "  You couldn’t rely on getting items back in the same order you added them.\n",
        "\n",
        "  **How It Affects Data Retrieval**\n",
        "  \n",
        "\n",
        "  | Feature                  | Effect in Dictionaries                              |\n",
        "| ------------------------ | --------------------------------------------------- |\n",
        "| Access by position/index | ❌ Not possible                                      |\n",
        "| Access by key            | ✅ Very fast (O(1) average time)                     |\n",
        "| Order of items           | ✅ Preserved in Python 3.7+, but not used for access |\n",
        "| Looping over keys/values | ✅ Will follow insertion order (modern versions)     |\n",
        "\n",
        "\n"
      ],
      "metadata": {
        "id": "nSvxDeTogUiY"
      }
    },
    {
      "cell_type": "markdown",
      "source": [
        "Q20. Explain the difference between a list and a dictionary in terms of data retrieval."
      ],
      "metadata": {
        "id": "UC-6o21Fgp-R"
      }
    },
    {
      "cell_type": "markdown",
      "source": [
        "- Both lists and dictionaries store collections of data, but the way you access (retrieve) elements from them is fundamentally different.\n",
        "\n",
        "  * **List: Retrieval by Index (Position-Based) **\n",
        "python\n",
        "Copy\n",
        "Edit\n",
        "   \n",
        "   fruits = [\"apple\", \"banana\", \"cherry\"]\n",
        "\n",
        "   print(fruits[1])  # Output: \"banana\"\n",
        "\n",
        "  *Dictionary: Retrieval by Key (Key-Based)\n",
        "\n",
        "  person = {\"name\": \"Alice\", \"age\": 30}\n",
        "\n",
        "  print(person[\"age\"])  # Output: 30\n",
        "  \n",
        "\n"
      ],
      "metadata": {
        "id": "8cG38Nudg_P4"
      }
    },
    {
      "cell_type": "markdown",
      "source": [
        "#Practical Questions Answers\n"
      ],
      "metadata": {
        "id": "nmwOw53XhaYQ"
      }
    },
    {
      "cell_type": "markdown",
      "source": [
        "Q1. Write a code to create a string with your name and print it."
      ],
      "metadata": {
        "id": "V3tS3MW7hxRJ"
      }
    },
    {
      "cell_type": "code",
      "source": [
        "# Create a string with your name\n",
        "name = \"Vikash khandelwal\"\n",
        "\n",
        "# Print the string\n",
        "print(\"My name is:\", name)\n"
      ],
      "metadata": {
        "colab": {
          "base_uri": "https://localhost:8080/"
        },
        "id": "DUXTckrHiE-x",
        "outputId": "345a2c5c-bc39-47a7-880e-5e3c0c40e551"
      },
      "execution_count": null,
      "outputs": [
        {
          "output_type": "stream",
          "name": "stdout",
          "text": [
            "My name is: Vikash khandelwal\n"
          ]
        }
      ]
    },
    {
      "cell_type": "markdown",
      "source": [
        "Q2. Write a code to find the length of the string \"Hello World\"."
      ],
      "metadata": {
        "id": "J_c0KLQPiRmN"
      }
    },
    {
      "cell_type": "code",
      "source": [
        "# Define the string\n",
        "text = \"Hello World\"\n",
        "\n",
        "# Find and print the length of the string\n",
        "length = len(text)\n",
        "print(\"Length of the string:\", length)\n"
      ],
      "metadata": {
        "colab": {
          "base_uri": "https://localhost:8080/"
        },
        "id": "QYMy4DV-i1AY",
        "outputId": "0870c412-8c3c-4366-be8f-bbcaf43a3d50"
      },
      "execution_count": null,
      "outputs": [
        {
          "output_type": "stream",
          "name": "stdout",
          "text": [
            "Length of the string: 11\n"
          ]
        }
      ]
    },
    {
      "cell_type": "markdown",
      "source": [
        "Q3. Write a code to slice the first 3 characters from the string Python Programming\"."
      ],
      "metadata": {
        "id": "tBg81WOmjJHg"
      }
    },
    {
      "cell_type": "code",
      "source": [
        "# Define the string\n",
        "text = \"Python Programming\"\n",
        "\n",
        "# Slice the first 3 characters\n",
        "sliced_text = text[:3]\n",
        "\n",
        "# Print the result\n",
        "print(\"First 3 characters:\", sliced_text)\n"
      ],
      "metadata": {
        "colab": {
          "base_uri": "https://localhost:8080/"
        },
        "id": "omKP9N1rjmrA",
        "outputId": "c89c1819-b4b3-41b8-8f58-15a75c4334cf"
      },
      "execution_count": null,
      "outputs": [
        {
          "output_type": "stream",
          "name": "stdout",
          "text": [
            "First 3 characters: Pyt\n"
          ]
        }
      ]
    },
    {
      "cell_type": "markdown",
      "source": [
        "Q4. Write a code to convert the string \"hello\" to upercase."
      ],
      "metadata": {
        "id": "v9q6cfngjyqJ"
      }
    },
    {
      "cell_type": "code",
      "source": [
        "# Define the string\n",
        "text = \"hello\"\n",
        "\n",
        "# Convert to uppercase\n",
        "upper_text = text.upper()\n",
        "\n",
        "# Print the result\n",
        "print(\"Uppercase string:\", upper_text)\n"
      ],
      "metadata": {
        "colab": {
          "base_uri": "https://localhost:8080/"
        },
        "id": "iyKBvjJvkJR0",
        "outputId": "110e5eaf-b2e0-4582-d0ef-0a38c636c561"
      },
      "execution_count": null,
      "outputs": [
        {
          "output_type": "stream",
          "name": "stdout",
          "text": [
            "Uppercase string: HELLO\n"
          ]
        }
      ]
    },
    {
      "cell_type": "markdown",
      "source": [
        "Q5. Write a code to replace the word \"apple\" with \"orange\"in the string \"I like apple\"."
      ],
      "metadata": {
        "id": "NZoFflFcng2J"
      }
    },
    {
      "cell_type": "code",
      "source": [
        "# Original string\n",
        "text = \"I like apple\"\n",
        "\n",
        "# Replace 'apple' with 'orange'\n",
        "new_text = text.replace(\"apple\", \"orange\")\n",
        "\n",
        "# Print the updated string\n",
        "print(\"Updated string:\", new_text)\n"
      ],
      "metadata": {
        "colab": {
          "base_uri": "https://localhost:8080/"
        },
        "id": "FHTpB5g_oL5p",
        "outputId": "d28f5ea0-d739-4c0a-f034-7ad914faeba5"
      },
      "execution_count": null,
      "outputs": [
        {
          "output_type": "stream",
          "name": "stdout",
          "text": [
            "Updated string: I like orange\n"
          ]
        }
      ]
    },
    {
      "cell_type": "markdown",
      "source": [
        "Q6. Write a code to create a list with numbers 1 to 5 and print it."
      ],
      "metadata": {
        "id": "_JSeXf11oaFe"
      }
    },
    {
      "cell_type": "code",
      "source": [
        "# Create a list with numbers 1 to 5\n",
        "numbers = [1, 2, 3, 4, 5]\n",
        "\n",
        "# Print the list\n",
        "print(\"List of numbers:\", numbers)\n"
      ],
      "metadata": {
        "colab": {
          "base_uri": "https://localhost:8080/"
        },
        "id": "vdqA1LA0pZFg",
        "outputId": "5841381b-5360-4307-84cc-56e39159da06"
      },
      "execution_count": null,
      "outputs": [
        {
          "output_type": "stream",
          "name": "stdout",
          "text": [
            "List of numbers: [1, 2, 3, 4, 5]\n"
          ]
        }
      ]
    },
    {
      "cell_type": "markdown",
      "source": [
        "Q7. Write a code to append the number 10 to list [1,2,3,4]."
      ],
      "metadata": {
        "id": "8FxMwh9Ypapv"
      }
    },
    {
      "cell_type": "code",
      "source": [
        "# Original list\n",
        "numbers = [1, 2, 3, 4]\n",
        "\n",
        "# Append 10 to the list\n",
        "numbers.append(10)\n",
        "\n",
        "# Print the updated list\n",
        "print(\"Updated list:\", numbers)\n"
      ],
      "metadata": {
        "colab": {
          "base_uri": "https://localhost:8080/"
        },
        "id": "HkWz5-6Cpy5r",
        "outputId": "555a0b79-b777-41c0-9d9e-0d04205c2ec5"
      },
      "execution_count": null,
      "outputs": [
        {
          "output_type": "stream",
          "name": "stdout",
          "text": [
            "Updated list: [1, 2, 3, 4, 10]\n"
          ]
        }
      ]
    },
    {
      "cell_type": "markdown",
      "source": [
        "Q.8 Write a code to remove the number 3 from the list [1,2,3,4,5]."
      ],
      "metadata": {
        "id": "eyeHZHvrp5Qm"
      }
    },
    {
      "cell_type": "code",
      "source": [
        "# Original list\n",
        "numbers = [1, 2, 3, 4, 5]\n",
        "\n",
        "# Remove the number 3\n",
        "numbers.remove(3)\n",
        "\n",
        "# Print the updated list\n",
        "print(\"Updated list:\", numbers)\n"
      ],
      "metadata": {
        "colab": {
          "base_uri": "https://localhost:8080/"
        },
        "id": "oY7w2bW8qPHP",
        "outputId": "78a29169-8c11-48a5-9a5c-4ca709100a25"
      },
      "execution_count": null,
      "outputs": [
        {
          "output_type": "stream",
          "name": "stdout",
          "text": [
            "Updated list: [1, 2, 4, 5]\n"
          ]
        }
      ]
    },
    {
      "cell_type": "markdown",
      "source": [
        "Q9. Write a code to access the second element in the list ['a','b','c','d']."
      ],
      "metadata": {
        "id": "1rFH-_pKqQrv"
      }
    },
    {
      "cell_type": "code",
      "source": [
        "# Define the list\n",
        "letters = ['a', 'b', 'c', 'd']\n",
        "\n",
        "# Access the second element (index 1)\n",
        "second_element = letters[1]\n",
        "\n",
        "# Print the second element\n",
        "print(\"Second element:\", second_element)\n",
        "\n"
      ],
      "metadata": {
        "colab": {
          "base_uri": "https://localhost:8080/"
        },
        "id": "-DLRxMUgqqBg",
        "outputId": "1edb788a-5ad3-4de7-b7aa-5dd53f0e36f8"
      },
      "execution_count": null,
      "outputs": [
        {
          "output_type": "stream",
          "name": "stdout",
          "text": [
            "Second element: b\n"
          ]
        }
      ]
    },
    {
      "cell_type": "markdown",
      "source": [
        "Q10. Write a code to reverse the list [10,20,30,40,50]."
      ],
      "metadata": {
        "id": "UmkKteVrqrtc"
      }
    },
    {
      "cell_type": "code",
      "source": [
        "# Original list\n",
        "numbers = [10, 20, 30, 40, 50]\n",
        "\n",
        "# Create a reversed version of the list\n",
        "reversed_numbers = numbers[::-1]\n",
        "\n",
        "# Print the reversed list\n",
        "print(\"Reversed list:\", reversed_numbers)\n"
      ],
      "metadata": {
        "colab": {
          "base_uri": "https://localhost:8080/"
        },
        "id": "lMRk57PQq5qr",
        "outputId": "dff2088a-9b96-4ce4-f78b-53a71053f095"
      },
      "execution_count": null,
      "outputs": [
        {
          "output_type": "stream",
          "name": "stdout",
          "text": [
            "Reversed list: [50, 40, 30, 20, 10]\n"
          ]
        }
      ]
    },
    {
      "cell_type": "markdown",
      "source": [
        "Q11. Write a code to create a tuple with the elements 100,200,300 and print it."
      ],
      "metadata": {
        "id": "IXgFXv6Cq75C"
      }
    },
    {
      "cell_type": "code",
      "source": [
        "# Create a tuple\n",
        "my_tuple = (100, 200, 300)\n",
        "\n",
        "# Print the tuple\n",
        "print(\"Tuple:\", my_tuple)\n"
      ],
      "metadata": {
        "colab": {
          "base_uri": "https://localhost:8080/"
        },
        "id": "dHlkxzSorjV_",
        "outputId": "901a235e-9fdf-422a-d8b4-01cac9b7b8b4"
      },
      "execution_count": null,
      "outputs": [
        {
          "output_type": "stream",
          "name": "stdout",
          "text": [
            "Tuple: (100, 200, 300)\n"
          ]
        }
      ]
    },
    {
      "cell_type": "markdown",
      "source": [
        "Q12. Write a code to access the second -to-last element of the tuple ('red','green','blue','yellow')."
      ],
      "metadata": {
        "id": "O1Z5KDJyrnKe"
      }
    },
    {
      "cell_type": "code",
      "source": [
        "# Define the tuple\n",
        "colors = ('red', 'green', 'blue', 'yellow')\n",
        "\n",
        "# Access the second-to-last element\n",
        "second_to_last = colors[-2]\n",
        "\n",
        "# Print the result\n",
        "print(\"Second-to-last element:\", second_to_last)\n"
      ],
      "metadata": {
        "colab": {
          "base_uri": "https://localhost:8080/"
        },
        "id": "R1eGXuKCsdTw",
        "outputId": "1aa8aaaf-0b08-4889-fefd-07c65499cd6b"
      },
      "execution_count": null,
      "outputs": [
        {
          "output_type": "stream",
          "name": "stdout",
          "text": [
            "Second-to-last element: blue\n"
          ]
        }
      ]
    },
    {
      "cell_type": "markdown",
      "source": [
        "Q13. Write a code to find the minimum number in the tuple (10,20,5,15)."
      ],
      "metadata": {
        "id": "Qtcy_KIasV9q"
      }
    },
    {
      "cell_type": "code",
      "source": [
        "# Define the tuple\n",
        "numbers = (10, 20, 5, 15)\n",
        "\n",
        "# Find the minimum number\n",
        "min_number = min(numbers)\n",
        "\n",
        "# Print the result\n",
        "print(\"Minimum number:\", min_number)\n"
      ],
      "metadata": {
        "colab": {
          "base_uri": "https://localhost:8080/"
        },
        "id": "AQx8TJh8s4xP",
        "outputId": "8435a468-0e98-441c-c461-e1dbadaac1f6"
      },
      "execution_count": null,
      "outputs": [
        {
          "output_type": "stream",
          "name": "stdout",
          "text": [
            "Minimum number: 5\n"
          ]
        }
      ]
    },
    {
      "cell_type": "markdown",
      "source": [
        "Q14. Write a code to find the index of the element \"cat\" in the tuple ('dog','cat','rabbit')."
      ],
      "metadata": {
        "id": "S9T19rKZs6Ye"
      }
    },
    {
      "cell_type": "code",
      "source": [
        "# Define the tuple\n",
        "animals = ('dog', 'cat', 'rabbit')\n",
        "\n",
        "# Find the index of \"cat\"\n",
        "index_of_cat = animals.index('cat')\n",
        "\n",
        "# Print the result\n",
        "print(\"Index of 'cat':\", index_of_cat)\n"
      ],
      "metadata": {
        "colab": {
          "base_uri": "https://localhost:8080/"
        },
        "id": "UlHM9ws9tXoI",
        "outputId": "476fe2a1-3f64-49d6-9ab9-ecd860953d73"
      },
      "execution_count": null,
      "outputs": [
        {
          "output_type": "stream",
          "name": "stdout",
          "text": [
            "Index of 'cat': 1\n"
          ]
        }
      ]
    },
    {
      "cell_type": "markdown",
      "source": [
        "Q15. Write a code to create a tuple containing three different fruits and check if \"kiwi\" is in it."
      ],
      "metadata": {
        "id": "MmJhLR4ZtY_E"
      }
    },
    {
      "cell_type": "code",
      "source": [
        "# Create a tuple with three fruits\n",
        "fruits = (\"apple\", \"banana\", \"orange\")\n",
        "\n",
        "# Check if \"kiwi\" is in the tuple\n",
        "if \"kiwi\" in fruits:\n",
        "    print(\"Kiwi is in the tuple.\")\n",
        "else:\n",
        "    print(\"Kiwi is not in the tuple.\")\n"
      ],
      "metadata": {
        "colab": {
          "base_uri": "https://localhost:8080/"
        },
        "id": "7VfyfPjjuI7W",
        "outputId": "81d2c5c0-be08-4a84-9e6d-2d35de7b40d4"
      },
      "execution_count": null,
      "outputs": [
        {
          "output_type": "stream",
          "name": "stdout",
          "text": [
            "Kiwi is not in the tuple.\n"
          ]
        }
      ]
    },
    {
      "cell_type": "markdown",
      "source": [
        "Q16. Write a code to create a set with the elements 'a','b','c'and print it."
      ],
      "metadata": {
        "id": "8RBTnZzGwfBK"
      }
    },
    {
      "cell_type": "code",
      "source": [
        "# Create a set\n",
        "my_set = {'a', 'b', 'c'}\n",
        "\n",
        "# Print the set\n",
        "print(\"Set:\", my_set)\n"
      ],
      "metadata": {
        "colab": {
          "base_uri": "https://localhost:8080/"
        },
        "id": "xlJiFLCnw1LF",
        "outputId": "9b820154-0d14-47ac-a7fb-ea6951779578"
      },
      "execution_count": 1,
      "outputs": [
        {
          "output_type": "stream",
          "name": "stdout",
          "text": [
            "Set: {'b', 'c', 'a'}\n"
          ]
        }
      ]
    },
    {
      "cell_type": "markdown",
      "source": [
        "Q17. Write a code to clear all elements from the set {1,2,3,4,5}."
      ],
      "metadata": {
        "id": "tQF2Axjsw51M"
      }
    },
    {
      "cell_type": "code",
      "source": [
        "# Define the set\n",
        "numbers = {1, 2, 3, 4, 5}\n",
        "\n",
        "# Clear all elements from the set\n",
        "numbers.clear()\n",
        "\n",
        "# Print the empty set\n",
        "print(\"Set after clearing:\", numbers)\n"
      ],
      "metadata": {
        "colab": {
          "base_uri": "https://localhost:8080/"
        },
        "id": "iWabfyzsxaKu",
        "outputId": "fe7fcf8d-a5b1-4987-f290-4bcb4a891dda"
      },
      "execution_count": 2,
      "outputs": [
        {
          "output_type": "stream",
          "name": "stdout",
          "text": [
            "Set after clearing: set()\n"
          ]
        }
      ]
    },
    {
      "cell_type": "markdown",
      "source": [
        "Q18. Write a code to remove the element 4 from the set {1,2,3,4,}."
      ],
      "metadata": {
        "id": "vAaKbd42xlsv"
      }
    },
    {
      "cell_type": "code",
      "source": [
        "# Define the set\n",
        "numbers = {1, 2, 3, 4}\n",
        "\n",
        "# Remove the element 4\n",
        "numbers.remove(4)\n",
        "\n",
        "# Print the updated set\n",
        "print(\"Set after removing 4:\", numbers)\n"
      ],
      "metadata": {
        "colab": {
          "base_uri": "https://localhost:8080/"
        },
        "id": "sNUuvZ-ryQgJ",
        "outputId": "9d7dd8f8-c5fb-4aff-8455-f9b3254ec14a"
      },
      "execution_count": 3,
      "outputs": [
        {
          "output_type": "stream",
          "name": "stdout",
          "text": [
            "Set after removing 4: {1, 2, 3}\n"
          ]
        }
      ]
    },
    {
      "cell_type": "markdown",
      "source": [
        "Q19. Write a code to find the union of two sets{1,2,3}and {3,4,5}."
      ],
      "metadata": {
        "id": "qMGqekstyT58"
      }
    },
    {
      "cell_type": "code",
      "source": [
        "# Define the two sets\n",
        "set1 = {1, 2, 3}\n",
        "set2 = {3, 4, 5}\n",
        "\n",
        "# Find the union of the sets\n",
        "union_set = set1.union(set2)\n",
        "\n",
        "# Print the result\n",
        "print(\"Union of sets:\", union_set)\n"
      ],
      "metadata": {
        "colab": {
          "base_uri": "https://localhost:8080/"
        },
        "id": "edoQUUbZynAE",
        "outputId": "4e4acbf1-1e7a-4212-d71d-a0e2018d6d96"
      },
      "execution_count": 4,
      "outputs": [
        {
          "output_type": "stream",
          "name": "stdout",
          "text": [
            "Union of sets: {1, 2, 3, 4, 5}\n"
          ]
        }
      ]
    },
    {
      "cell_type": "markdown",
      "source": [
        "Q20. Write a code to find the intersection of two sets {1,2,3}and {2,3,4}."
      ],
      "metadata": {
        "id": "ZR9AT5dGyrl9"
      }
    },
    {
      "cell_type": "code",
      "source": [
        "# Define the two sets\n",
        "set1 = {1, 2, 3}\n",
        "set2 = {2, 3, 4}\n",
        "\n",
        "# Find the intersection of the sets\n",
        "intersection_set = set1.intersection(set2)\n",
        "\n",
        "# Print the result\n",
        "print(\"Intersection of sets:\", intersection_set)\n"
      ],
      "metadata": {
        "colab": {
          "base_uri": "https://localhost:8080/"
        },
        "id": "UKWVlFKQzCk9",
        "outputId": "0166f477-253d-4140-a8be-712d0c765ab5"
      },
      "execution_count": 5,
      "outputs": [
        {
          "output_type": "stream",
          "name": "stdout",
          "text": [
            "Intersection of sets: {2, 3}\n"
          ]
        }
      ]
    },
    {
      "cell_type": "markdown",
      "source": [
        "Q21. Write a code to create a dictionary with the keys \"name\" ,\"age\" and \"city\",and print it."
      ],
      "metadata": {
        "id": "HrhX5SZOzIZF"
      }
    },
    {
      "cell_type": "code",
      "source": [
        "# Create the dictionary\n",
        "person = {\n",
        "    \"name\": \"Vikash\",\n",
        "    \"age\": 26,\n",
        "    \"city\": \"Jaipur\"\n",
        "}\n",
        "\n",
        "# Print the dictionary\n",
        "print(\"Dictionary:\", person)\n"
      ],
      "metadata": {
        "colab": {
          "base_uri": "https://localhost:8080/"
        },
        "id": "S2ERA7NBzdN-",
        "outputId": "566c3119-2557-4aac-d940-e22def321b08"
      },
      "execution_count": 6,
      "outputs": [
        {
          "output_type": "stream",
          "name": "stdout",
          "text": [
            "Dictionary: {'name': 'Vikash', 'age': 26, 'city': 'Jaipur'}\n"
          ]
        }
      ]
    },
    {
      "cell_type": "markdown",
      "source": [
        "Q22. Write a code to add a new key-value pair \"country\":\"USA\" to the dictionary {'name':'John','age':'25'}."
      ],
      "metadata": {
        "id": "4NBvHB1wzm-1"
      }
    },
    {
      "cell_type": "code",
      "source": [
        "# Original dictionary\n",
        "person = {'name': 'John', 'age': '25'}\n",
        "\n",
        "# Add new key-value pair\n",
        "person['country'] = 'USA'\n",
        "\n",
        "# Print the updated dictionary\n",
        "print(\"Updated dictionary:\", person)\n"
      ],
      "metadata": {
        "colab": {
          "base_uri": "https://localhost:8080/"
        },
        "id": "s1VXTj9h0YIo",
        "outputId": "4b73ee48-1c22-4024-e9ef-bcbac4409734"
      },
      "execution_count": 7,
      "outputs": [
        {
          "output_type": "stream",
          "name": "stdout",
          "text": [
            "Updated dictionary: {'name': 'John', 'age': '25', 'country': 'USA'}\n"
          ]
        }
      ]
    },
    {
      "cell_type": "markdown",
      "source": [
        "Q23. Write a code to access the associated with the key \"name\"in the dictionary {'name':'alice','age':'30'}."
      ],
      "metadata": {
        "id": "DGgp2dMF0cxu"
      }
    },
    {
      "cell_type": "code",
      "source": [
        "# Define the dictionary\n",
        "person = {'name': 'alice', 'age': '30'}\n",
        "\n",
        "# Access the value associated with the key \"name\"\n",
        "name_value = person['name']\n",
        "\n",
        "# Print the value\n",
        "print(\"Name:\", name_value)\n"
      ],
      "metadata": {
        "colab": {
          "base_uri": "https://localhost:8080/"
        },
        "id": "VHxdZ1i01Hw6",
        "outputId": "c161ec0c-d034-4bff-d75f-96b55979b906"
      },
      "execution_count": 8,
      "outputs": [
        {
          "output_type": "stream",
          "name": "stdout",
          "text": [
            "Name: alice\n"
          ]
        }
      ]
    },
    {
      "cell_type": "markdown",
      "source": [
        "Q24. Write a code to remove the key \"age\" from the dictionary {'name':'Bob','age':'22','city':'New york'}."
      ],
      "metadata": {
        "id": "8bbw3oOf1I68"
      }
    },
    {
      "cell_type": "code",
      "source": [
        "# Define the dictionary\n",
        "person = {'name': 'Bob', 'age': '22', 'city': 'New york'}\n",
        "\n",
        "# Remove the key \"age\"\n",
        "person.pop('age')\n",
        "\n",
        "# Print the updated dictionary\n",
        "print(\"Updated dictionary:\", person)\n"
      ],
      "metadata": {
        "colab": {
          "base_uri": "https://localhost:8080/"
        },
        "id": "5GXnuNC71ss4",
        "outputId": "8950fa69-c8a2-4cab-f31f-272ea2185242"
      },
      "execution_count": 9,
      "outputs": [
        {
          "output_type": "stream",
          "name": "stdout",
          "text": [
            "Updated dictionary: {'name': 'Bob', 'city': 'New york'}\n"
          ]
        }
      ]
    },
    {
      "cell_type": "markdown",
      "source": [
        "Q25. Wtite a code to check if the key \"city\" exists in the dictionary {'name':'alice','city':'Paris'}."
      ],
      "metadata": {
        "id": "KkLMLhV116VU"
      }
    },
    {
      "cell_type": "code",
      "source": [
        "# Define the dictionary\n",
        "person = {'name': 'alice', 'city': 'Paris'}\n",
        "\n",
        "# Check if \"city\" exists as a key\n",
        "if 'city' in person:\n",
        "    print(\"Key 'city' exists in the dictionary.\")\n",
        "else:\n",
        "    print(\"Key 'city' does not exist in the dictionary.\")\n"
      ],
      "metadata": {
        "colab": {
          "base_uri": "https://localhost:8080/"
        },
        "id": "NJS7U37Y2de0",
        "outputId": "5be3d6af-a943-42b7-d9e7-2c896561efd1"
      },
      "execution_count": 10,
      "outputs": [
        {
          "output_type": "stream",
          "name": "stdout",
          "text": [
            "Key 'city' exists in the dictionary.\n"
          ]
        }
      ]
    },
    {
      "cell_type": "markdown",
      "source": [
        "Q26. Write a code to create a list,a tuple, and a dictionary,and print them all."
      ],
      "metadata": {
        "id": "F2nuwafG2kPY"
      }
    },
    {
      "cell_type": "code",
      "source": [
        "# Create a list\n",
        "my_list = [1, 2, 3, 4, 5]\n",
        "\n",
        "# Create a tuple\n",
        "my_tuple = ('apple', 'banana', 'cherry')\n",
        "\n",
        "# Create a dictionary\n",
        "my_dict = {'name': 'Alice', 'age': 25, 'city': 'New York'}\n",
        "\n",
        "# Print them all\n",
        "print(\"List:\", my_list)\n",
        "print(\"Tuple:\", my_tuple)\n",
        "print(\"Dictionary:\", my_dict)\n"
      ],
      "metadata": {
        "colab": {
          "base_uri": "https://localhost:8080/"
        },
        "id": "ilh7tSn_23u9",
        "outputId": "44ea56d1-4c61-480d-c7ed-32fc616565f5"
      },
      "execution_count": 11,
      "outputs": [
        {
          "output_type": "stream",
          "name": "stdout",
          "text": [
            "List: [1, 2, 3, 4, 5]\n",
            "Tuple: ('apple', 'banana', 'cherry')\n",
            "Dictionary: {'name': 'Alice', 'age': 25, 'city': 'New York'}\n"
          ]
        }
      ]
    },
    {
      "cell_type": "markdown",
      "source": [
        "Q27. Write a code to create a list of 5 random numbers between 1 and 100,sort it an ascending order,and print the result.(replaced)"
      ],
      "metadata": {
        "id": "nJtIiBZQ2_5y"
      }
    },
    {
      "cell_type": "code",
      "source": [
        "import random\n",
        "\n",
        "# Create a list of 5 random numbers between 1 and 100\n",
        "random_numbers = [random.randint(1, 100) for _ in range(5)]\n",
        "\n",
        "# Sort the list in ascending order\n",
        "random_numbers.sort()\n",
        "\n",
        "# Print the sorted list\n",
        "print(\"Sorted random numbers:\", random_numbers)\n"
      ],
      "metadata": {
        "colab": {
          "base_uri": "https://localhost:8080/"
        },
        "id": "MN959UqN3mFo",
        "outputId": "80f85f2e-e06c-4a1f-c051-c48321e9a2e3"
      },
      "execution_count": 12,
      "outputs": [
        {
          "output_type": "stream",
          "name": "stdout",
          "text": [
            "Sorted random numbers: [1, 3, 55, 91, 96]\n"
          ]
        }
      ]
    },
    {
      "cell_type": "markdown",
      "source": [
        "Q28. Write a code to create a list with strings and print the element at the thrid index."
      ],
      "metadata": {
        "id": "Kl4JNemq3oQV"
      }
    },
    {
      "cell_type": "code",
      "source": [
        "# Create a list of strings\n",
        "words = [\"apple\", \"banana\", \"cherry\", \"date\", \"fig\"]\n",
        "\n",
        "# Print the element at the third index\n",
        "print(\"Element at index 3:\", words[3])\n"
      ],
      "metadata": {
        "colab": {
          "base_uri": "https://localhost:8080/"
        },
        "id": "m3_DLx8r4eI7",
        "outputId": "582730b7-d7a8-4733-b41c-be4fc6d4b075"
      },
      "execution_count": 13,
      "outputs": [
        {
          "output_type": "stream",
          "name": "stdout",
          "text": [
            "Element at index 3: date\n"
          ]
        }
      ]
    },
    {
      "cell_type": "markdown",
      "source": [
        "Q29. Write a code to combine two dictionaries into one and print the result."
      ],
      "metadata": {
        "id": "uTucIqal4gGL"
      }
    },
    {
      "cell_type": "code",
      "source": [
        "# Define two dictionaries\n",
        "dict1 = {'name': 'Alice', 'age': 25}\n",
        "dict2 = {'city': 'New York', 'country': 'USA'}\n",
        "\n",
        "# Combine the dictionaries\n",
        "combined_dict = {**dict1, **dict2}\n",
        "\n",
        "# Print the combined dictionary\n",
        "print(\"Combined dictionary:\", combined_dict)\n"
      ],
      "metadata": {
        "colab": {
          "base_uri": "https://localhost:8080/"
        },
        "id": "5dZE8kZq4zqb",
        "outputId": "d1696bc3-7529-49ea-9daf-fcc99be757d6"
      },
      "execution_count": 14,
      "outputs": [
        {
          "output_type": "stream",
          "name": "stdout",
          "text": [
            "Combined dictionary: {'name': 'Alice', 'age': 25, 'city': 'New York', 'country': 'USA'}\n"
          ]
        }
      ]
    },
    {
      "cell_type": "markdown",
      "source": [
        "Q30. Write a code to convert a list of strings into a set."
      ],
      "metadata": {
        "id": "sMeQVC3O5BnO"
      }
    },
    {
      "cell_type": "code",
      "source": [
        "# Define a list of strings\n",
        "string_list = [\"apple\", \"banana\", \"cherry\", \"apple\"]\n",
        "\n",
        "# Convert the list into a set\n",
        "string_set = set(string_list)\n",
        "\n",
        "# Print the set\n",
        "print(\"Set:\", string_set)\n"
      ],
      "metadata": {
        "colab": {
          "base_uri": "https://localhost:8080/"
        },
        "id": "tpkICrdu5VuF",
        "outputId": "0cffeeae-be39-4df3-f4ca-e751b06d2afc"
      },
      "execution_count": 15,
      "outputs": [
        {
          "output_type": "stream",
          "name": "stdout",
          "text": [
            "Set: {'banana', 'cherry', 'apple'}\n"
          ]
        }
      ]
    }
  ]
}